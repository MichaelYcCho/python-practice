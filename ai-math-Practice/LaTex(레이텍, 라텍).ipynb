{
 "cells": [
  {
   "cell_type": "markdown",
   "metadata": {},
   "source": [
    "$$y=2x+1$$\n",
    "\n",
    "$$ a_{i} $$\n",
    "\n",
    "$$ y = x^3 + \\sqrt x + \\frac{a_{ij}}{b^4_{ij}} - \\sum{k=1}^n a_k$$"
   ]
  }
 ],
 "metadata": {
  "kernelspec": {
   "display_name": "Python 3",
   "language": "python",
   "name": "python3"
  },
  "language_info": {
   "codemirror_mode": {
    "name": "ipython",
    "version": 3
   },
   "file_extension": ".py",
   "mimetype": "text/x-python",
   "name": "python",
   "nbconvert_exporter": "python",
   "pygments_lexer": "ipython3",
   "version": "3.8.3"
  }
 },
 "nbformat": 4,
 "nbformat_minor": 4
}
