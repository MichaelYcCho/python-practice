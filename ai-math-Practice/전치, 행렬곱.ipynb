{
 "cells": [
  {
   "cell_type": "markdown",
   "metadata": {},
   "source": [
    "행렬의 전치는 행과 열이 바뀌는 것을 의미한다. \n",
    "\n",
    "$$A=\\begin{pmatrix}\n",
    "1 & 1 & 3 \\\\\n",
    "4 & 5 & 6\n",
    "\\end{pmatrix}\n",
    "$$\n",
    "\n",
    "\\\n",
    "$$A^T=\n",
    "\\begin{pmatrix}\n",
    "1 & 4 \\\\\n",
    "2 & 5 \\\\\n",
    "3 & 6\n",
    "\\end{pmatrix}\n",
    "$$\n",
    "\n",
    "\\\n",
    "$$B=\\begin{pmatrix}\n",
    "a & b \\\\\n",
    "c & d \\\\\n",
    "e & f\n",
    "\\end{pmatrix}\n",
    "$$\n",
    "\n",
    "\\\n",
    "$$B^T=\n",
    "\\begin{pmatrix}\n",
    "a & c & e\\\\\n",
    "b & d & f \\\\\n",
    "\\end{pmatrix}\n",
    "$$"
   ]
  },
  {
   "cell_type": "code",
   "execution_count": 2,
   "metadata": {},
   "outputs": [
    {
     "name": "stdout",
     "output_type": "stream",
     "text": [
      "[[1 4]\n",
      " [2 5]\n",
      " [3 6]]\n"
     ]
    }
   ],
   "source": [
    "import numpy as np\n",
    "\n",
    "a = np.array([\n",
    "    [1, 2, 3],\n",
    "    [4, 5, 6]\n",
    "])\n",
    "\n",
    "print(a.T)"
   ]
  },
  {
   "cell_type": "code",
   "execution_count": 3,
   "metadata": {},
   "outputs": [
    {
     "ename": "SyntaxError",
     "evalue": "invalid syntax (<ipython-input-3-82defd6a6720>, line 1)",
     "output_type": "error",
     "traceback": [
      "\u001b[1;36m  File \u001b[1;32m\"<ipython-input-3-82defd6a6720>\"\u001b[1;36m, line \u001b[1;32m1\u001b[0m\n\u001b[1;33m    행렬곱의 베이스는 앞행렬의 열수와 뒤 행렬의 행수가 일치해야한다는 것이었다.\u001b[0m\n\u001b[1;37m         ^\u001b[0m\n\u001b[1;31mSyntaxError\u001b[0m\u001b[1;31m:\u001b[0m invalid syntax\n"
     ]
    }
   ],
   "source": [
    "행렬곱의 베이스는 앞행렬의 열수와 뒤 행렬의 행수가 일치해야한다는 것이었다. \n",
    "하지만 그렇지 않은 경우라도 전치에 의한 행렬곱을 할수있는 경우가 있다. \n",
    "\n",
    "즉 전치를 해서 바뀐 행렬의 값이 앞 행렬의 열수과 뒤행렬의 행 수와 일치한다면 \n",
    "이를 통해 행렬 곱을 할 수 ㅣㅇㅆ는 것이다. \n"
   ]
  },
  {
   "cell_type": "code",
   "execution_count": 4,
   "metadata": {},
   "outputs": [
    {
     "name": "stdout",
     "output_type": "stream",
     "text": [
      "[[ 5  8]\n",
      " [ 8 14]]\n"
     ]
    }
   ],
   "source": [
    "import numpy as mp\n",
    "\n",
    "a = np.array([\n",
    "    [0, 1, 2],\n",
    "    [1, 2, 3]\n",
    "])\n",
    "\n",
    "b = np.array([\n",
    "    [0, 1, 2],\n",
    "    [1, 2, 3]\n",
    "])\n",
    "\n",
    "print(np.dot(a, b.T))"
   ]
  },
  {
   "cell_type": "code",
   "execution_count": 5,
   "metadata": {},
   "outputs": [
    {
     "name": "stdout",
     "output_type": "stream",
     "text": [
      "[[ 5 11]\n",
      " [ 8 20]]\n"
     ]
    }
   ],
   "source": [
    "import numpy as np\n",
    "\n",
    "a = np.array([\n",
    "    [0, 1, 2],\n",
    "    [1, 2, 3]\n",
    "])\n",
    "\n",
    "b = np.array([\n",
    "    [0, 1, 2],\n",
    "    [2, 3, 4]\n",
    "])\n",
    "\n",
    "print(np.dot(a, b.T))"
   ]
  },
  {
   "cell_type": "code",
   "execution_count": null,
   "metadata": {},
   "outputs": [],
   "source": []
  }
 ],
 "metadata": {
  "kernelspec": {
   "display_name": "Python 3",
   "language": "python",
   "name": "python3"
  },
  "language_info": {
   "codemirror_mode": {
    "name": "ipython",
    "version": 3
   },
   "file_extension": ".py",
   "mimetype": "text/x-python",
   "name": "python",
   "nbconvert_exporter": "python",
   "pygments_lexer": "ipython3",
   "version": "3.8.3"
  }
 },
 "nbformat": 4,
 "nbformat_minor": 4
}
