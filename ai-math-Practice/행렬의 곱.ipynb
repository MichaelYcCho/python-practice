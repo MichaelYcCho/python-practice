{
 "cells": [
  {
   "cell_type": "code",
   "execution_count": null,
   "metadata": {},
   "outputs": [],
   "source": [
    "# 행렬의곱"
   ]
  },
  {
   "cell_type": "markdown",
   "metadata": {},
   "source": [
    "아래의 두 행렬이 있을때 행렬곱은 아래와 같다\n",
    "\n",
    "\n",
    "$$A=\\begin{pmatrix}\n",
    "0 & 1 & 2 \\\\\n",
    "1 & 2 & 3\n",
    "\\end{pmatrix}\n",
    "$$\n",
    "\n",
    "\\\n",
    "$$B=\n",
    "\\begin{pmatrix}\n",
    "2 & 1 \\\\\n",
    "2 & 1 \\\\\n",
    "2 & 1\n",
    "\\end{pmatrix}\n",
    "$$\n",
    "\n",
    "\\\n",
    "$$\n",
    "Answer = \n",
    "\\begin{pmatrix}\n",
    "(0 * 2) + (1 * 2) + (2 * 2) &  (0 * 1) + (1 * 1) + (2 * 1) \\\\\n",
    "(1 * 2) + (2 * 2) + (3 * 2) & (1 * 1) + (2 * 1) + (3 * 1)\n",
    "\\end{pmatrix}\n",
    "$$\n",
    "\n",
    "\\\n",
    "\\\n",
    "\\\n",
    "행렬곱은 스칼라의 곱과 달리 앞 행렬과 뒤 행렬의 교환은 특정조건을 만족하 있는 경우를 제외할 수 없다. \n",
    "또한 행렬곱을 계산하려면 앞의 행렬의 열수와 뒤 행렬의 행수가 일치해야한다. \n",
    "\n"
   ]
  },
  {
   "cell_type": "code",
   "execution_count": 5,
   "metadata": {},
   "outputs": [
    {
     "name": "stdout",
     "output_type": "stream",
     "text": [
      "[[ 6  3]\n",
      " [12  6]]\n"
     ]
    }
   ],
   "source": [
    "# 이를 코드로 구현하면\n",
    "\n",
    "import numpy as np\n",
    "\n",
    "a = np.array([\n",
    "            [0, 1, 2],\n",
    "            [1, 2, 3]\n",
    "            ])\n",
    "\n",
    "b = np.array([\n",
    "            [2, 1],\n",
    "            [2, 1],\n",
    "            [2, 1]\n",
    "])\n",
    "\n",
    "print(np.dot(a, b))"
   ]
  },
  {
   "cell_type": "code",
   "execution_count": null,
   "metadata": {},
   "outputs": [],
   "source": [
    "#  아다마르 곱"
   ]
  },
  {
   "cell_type": "markdown",
   "metadata": {},
   "source": [
    "행렬의 요소별 곱은 아다마르곱이라고 한다.\n",
    "행렬의 각 요소를 곱하면된다. \n",
    "\n",
    "$$ \n",
    "A=\\begin{pmatrix}\n",
    "    a_{11} & a_{12} & \\cdots & a_{1n} \\\\\n",
    "    a_{21} & a_{22} & \\cdots & a_{2n} \\\\\n",
    "   \\vdots & \\vdots & \\ddots &  \\vdots \\\\   \n",
    "   a_{m1} & a_{m2} & \\cdots & a_{mn} \n",
    "\\end{pmatrix}\n",
    " $$\n",
    " \\\n",
    " $$\n",
    " B=\\begin{pmatrix}\n",
    "    b_{11} & b_{12} & \\cdots & b_{1n} \\\\\n",
    "    b_{21} & b_{22} & \\cdots & b_{2n} \\\\\n",
    "   \\vdots & \\vdots & \\ddots &  \\vdots \\\\   \n",
    "   b_{m1} & b_{m2} & \\cdots & b_{mn} \n",
    "\\end{pmatrix}\n",
    "$$\n",
    "\\\n",
    "$$\n",
    "A\\circ B=\\begin{pmatrix}\n",
    "    a_{11}b_{11} & a_{12}b_{12} & \\cdots &  a_{1n}b_{1n} \\\\\n",
    "    a_{21}b_{21} & a_{22}b_{22} & \\cdots & a_{2n}b_{2n} \\\\\n",
    "   \\vdots & \\vdots & \\ddots &  \\vdots \\\\   \n",
    "   a_{m1}b_{m1} & a_{m2}b_{m2} & \\cdots & a_{mn}b_{mn} \n",
    "\\end{pmatrix}\n",
    "$$\n",
    "\n"
   ]
  },
  {
   "cell_type": "code",
   "execution_count": 7,
   "metadata": {},
   "outputs": [
    {
     "name": "stdout",
     "output_type": "stream",
     "text": [
      "[[ 0  1  4]\n",
      " [ 6  0  5]\n",
      " [ 6 14  0]]\n"
     ]
    }
   ],
   "source": [
    "#요소별 곱의 구현\n",
    "\n",
    "import numpy as np\n",
    "\n",
    "a = np.array([\n",
    "    [0, 1, 2],\n",
    "    [3, 4, 5],\n",
    "    [6, 7, 8]\n",
    "])\n",
    "\n",
    "b = np.array([\n",
    "    [0, 1, 2],\n",
    "    [2, 0, 1],\n",
    "    [1, 2, 0]\n",
    "])\n",
    "\n",
    "print(a*b)"
   ]
  },
  {
   "cell_type": "code",
   "execution_count": 8,
   "metadata": {},
   "outputs": [
    {
     "name": "stdout",
     "output_type": "stream",
     "text": [
      "[[ 5  8]\n",
      " [ 8 14]]\n",
      "\n",
      "[[ 0  2  0]\n",
      " [ 6  0 10]\n",
      " [ 0 14  0]]\n"
     ]
    }
   ],
   "source": [
    "# 연습문제\n",
    "\n",
    "import numpy as np\n",
    "\n",
    "a = np.array([\n",
    "    [0, 1, 2],\n",
    "    [1, 2, 3]\n",
    "])\n",
    "\n",
    "b = np.array([\n",
    "    [0, 1],\n",
    "    [1, 2],\n",
    "    [2, 3]\n",
    "])\n",
    "\n",
    "# 행렬곱\n",
    "print(np.dot(a, b))\n",
    "print()\n",
    "\n",
    "c = np.array([\n",
    "    [0, 1, 2],\n",
    "    [3, 4, 5],\n",
    "    [6, 7, 8]\n",
    "])\n",
    "\n",
    "d = np.array([\n",
    "    [0, 2, 0],\n",
    "    [2, 0, 2],\n",
    "    [0, 2, 0]\n",
    "])\n",
    "\n",
    "# 요소별 곱\n",
    "print(c*d)\n"
   ]
  },
  {
   "cell_type": "code",
   "execution_count": null,
   "metadata": {},
   "outputs": [],
   "source": []
  }
 ],
 "metadata": {
  "celltoolbar": "Raw Cell Format",
  "kernelspec": {
   "display_name": "Python 3",
   "language": "python",
   "name": "python3"
  },
  "language_info": {
   "codemirror_mode": {
    "name": "ipython",
    "version": 3
   },
   "file_extension": ".py",
   "mimetype": "text/x-python",
   "name": "python",
   "nbconvert_exporter": "python",
   "pygments_lexer": "ipython3",
   "version": "3.8.3"
  }
 },
 "nbformat": 4,
 "nbformat_minor": 4
}
