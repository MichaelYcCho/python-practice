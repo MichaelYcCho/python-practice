{
 "cells": [
  {
   "cell_type": "code",
   "execution_count": 3,
   "metadata": {},
   "outputs": [
    {
     "name": "stdout",
     "output_type": "stream",
     "text": [
      "15\n",
      "120\n"
     ]
    }
   ],
   "source": [
    "#총합은 여러개의 수치르 ㄹ모두 더하는 것을 의미한다. \n",
    "#총합(시그마) 는 sum()을 통해 구현가능하다. \n",
    "\n",
    "import numpy as np\n",
    "\n",
    "a = np.array([1, 3, 2, 5, 4])\n",
    "sum_result = np.sum(a)\n",
    "multiple_result = np.prod(a)\n",
    "\n",
    "print(sum_result)\n",
    "print(multiple_result)\n"
   ]
  }
 ],
 "metadata": {
  "kernelspec": {
   "display_name": "Python 3",
   "language": "python",
   "name": "python3"
  },
  "language_info": {
   "codemirror_mode": {
    "name": "ipython",
    "version": 3
   },
   "file_extension": ".py",
   "mimetype": "text/x-python",
   "name": "python",
   "nbconvert_exporter": "python",
   "pygments_lexer": "ipython3",
   "version": "3.8.3"
  }
 },
 "nbformat": 4,
 "nbformat_minor": 4
}
