{
 "cells": [
  {
   "cell_type": "code",
   "execution_count": 4,
   "metadata": {},
   "outputs": [],
   "source": [
    "# 내적은 백터끼리 곱의 한 종류로 각 요소끼리 곱한 값을 총합해서 정의한다. \n",
    "# 즉 (a1*b1) + (a2*b2) ... 의 벡터 두요소의 합이 되는 것이다. 를 수식으로 표현하면 아래와 같다.\n"
   ]
  },
  {
   "cell_type": "markdown",
   "metadata": {},
   "source": [
    "\n",
    "$$ \\sum^n_{k=1} a_k b_k $$\n"
   ]
  },
  {
   "cell_type": "code",
   "execution_count": null,
   "metadata": {},
   "outputs": [],
   "source": [
    "# 이 내적은 Numpy의 dt()로 구현가능하다. \n",
    "\n",
    "import numpy as np\n",
    "\n",
    "a = np.array([1, 2, 3])\n",
    "b = np.array([3, 2, 1])\n",
    "\n",
    "print('dot')\n",
    "print(np.dot(a, b)) # dot 함수로 인한 내적값\n",
    "print(np.sum(a * b)) # 곱의 총합에 의한 내적"
   ]
  },
  {
   "cell_type": "markdown",
   "metadata": {},
   "source": [
    "놈은 백터의 크기를 나타내는 양이다. \n",
    "$$ L^1 놈$$\n",
    "$$ ||\\overrightarrow{x}||_1= {\\sum_{k=1}^n |x_k|}$$\n",
    "\n",
    "http://taewan.kim/post/norm/\n",
    "\n",
    "$$ L^2 놈$$ \n",
    "\n",
    "$$ ||\\overrightarrow{x}||_2=\\sqrt {x^2_1+ x^2_2+ x^2_3+ ... + x^2_n}  $$\n",
    "$$ = \\sqrt{\\sum_{k=1}^n x_k^2}  $$\n",
    "\n",
    "L2놈은 벡터의 각 요소를 제곱합하여 제곱근을 구해 계산한다. \n",
    "L1놈은 벡터의 각 요소의 절대값을 더해서 계산한다. \n",
    "\n",
    "놈을 더욱 일반화한  \n",
    "$$L^p 놈이 있다.  $$ \n",
    "\n",
    "\n",
    "놈의 종류에 따라 벡터의 크기는 다름 값이 된다는 점을 잊지 말자\n",
    "놈은 인공지능에서 정칙화에 사용된다. \n",
    "정칙화는 필요 이상으로 네트워크 학습이 진행되는 것을 파라미터를 통해 사전에 통제하는 것을 의미한다. \n"
   ]
  },
  {
   "cell_type": "code",
   "execution_count": 2,
   "metadata": {},
   "outputs": [
    {
     "name": "stdout",
     "output_type": "stream",
     "text": [
      "L2놈\n",
      "2.0\n",
      "L1놈\n",
      "4.0\n"
     ]
    }
   ],
   "source": [
    "import numpy as np\n",
    "\n",
    "a = np.array([1, 1, -1, -1])\n",
    "\n",
    "print(\"L2놈\")\n",
    "# 디폴트값\n",
    "print(np.linalg.norm(a))\n",
    "\n",
    "print(\"L1놈\")\n",
    "print(np.linalg.norm(a, 1))\n"
   ]
  },
  {
   "cell_type": "code",
   "execution_count": 3,
   "metadata": {},
   "outputs": [
    {
     "name": "stdout",
     "output_type": "stream",
     "text": [
      "내적\n",
      "8\n",
      "L1\n",
      "3.0\n",
      "L2\n",
      "5.0\n"
     ]
    }
   ],
   "source": [
    "\n",
    "import numpy as np\n",
    "\n",
    "a = np.array([1, -2, 2])\n",
    "b = np.array([2, -2, 1])\n",
    "\n",
    "print('내적')\n",
    "print(np.dot(a, b))\n",
    "\n",
    "print('L1')\n",
    "print(np.linalg.norm(a))\n",
    "\n",
    "print('L2')\n",
    "print(np.linalg.norm(a, 1))\n"
   ]
  }
 ],
 "metadata": {
  "kernelspec": {
   "display_name": "Python 3",
   "language": "python",
   "name": "python3"
  },
  "language_info": {
   "codemirror_mode": {
    "name": "ipython",
    "version": 3
   },
   "file_extension": ".py",
   "mimetype": "text/x-python",
   "name": "python",
   "nbconvert_exporter": "python",
   "pygments_lexer": "ipython3",
   "version": "3.8.3"
  }
 },
 "nbformat": 4,
 "nbformat_minor": 4
}
